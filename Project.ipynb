{
 "cells": [
  {
   "cell_type": "markdown",
   "metadata": {},
   "source": [
    "# Project Topic:  Encryption"
   ]
  },
  {
   "cell_type": "markdown",
   "metadata": {},
   "source": [
    "# Overview\n",
    "\n",
    "This project integrats email into the encryption code, so you can send receive encrypted messages!\n",
    "You are able to choose one out of three types of encryptions."
   ]
  },
  {
   "cell_type": "markdown",
   "metadata": {},
   "source": [
    "presudocode:\n",
    "    first makesure user's email is correct so he is able to log in a email \n",
    "    second user choose one of the 3 types of encrytion\n",
    "    at last make sure the email is sent"
   ]
  },
  {
   "cell_type": "code",
   "execution_count": 2,
   "metadata": {},
   "outputs": [],
   "source": [
    "import smtplib\n",
    "import time\n",
    "from email.mime.text import MIMEText\n",
    "import string"
   ]
  },
  {
   "cell_type": "code",
   "execution_count": null,
   "metadata": {},
   "outputs": [],
   "source": [
    "\n",
    "\n"
   ]
  },
  {
   "cell_type": "code",
   "execution_count": 4,
   "metadata": {},
   "outputs": [
    {
     "name": "stdout",
     "output_type": "stream",
     "text": [
      "CREATING EMAIL.\n",
      "\n",
      "PRINT OUT CREATED EMAIL:\n",
      "\n",
      "Content-Type: text/plain; charset=\"us-ascii\"\n",
      "MIME-Version: 1.0\n",
      "Content-Transfer-Encoding: 7bit\n",
      "From: trysendemail01@gmail.com\n",
      "To: trysendemail01@gmail.com\n",
      "Subject: Encryted message\n",
      "\n",
      "Encrytped test\n",
      "SENDING EMAIL\n",
      "EMAIL SENT!\n"
     ]
    }
   ],
   "source": [
    "print(\"CREATING EMAIL.\")\n",
    "# Set up the SMTP server & login\n",
    "smtp = smtplib.SMTP('smtp.gmail.com', 587)\n",
    "    \n",
    "    # Note: sometimes ttls has to be turned off (?)\n",
    "\n",
    "smtp.starttls()\n",
    "\n",
    "smtp.ehlo()\n",
    "time.sleep(2)\n",
    "EMAIL_TEXT = \"Encrytped test\"\n",
    "msg = MIMEText(EMAIL_TEXT)\n",
    "FROM_ADDRESS = \"trysendemail01@gmail.com\"\n",
    "TO_ADDRESS = \"trysendemail01@gmail.com\"\n",
    "smtp.login(\"trysendemail01@gmail.com\",\"123123123Aa.\" )\n",
    "msg['From'] = FROM_ADDRESS\n",
    "\n",
    "msg['To'] = TO_ADDRESS\n",
    "\n",
    "msg['Subject'] = 'Encryted message'\n",
    "\n",
    "\n",
    "\n",
    "    # Check out the email\n",
    "\n",
    "print(\"\\nPRINT OUT CREATED EMAIL:\\n\")\n",
    "\n",
    "print(msg)\n",
    "\n",
    "\n",
    "\n",
    "time.sleep(4)\n",
    "\n",
    "\n",
    "\n",
    "    # Send message\n",
    "\n",
    "print(\"SENDING EMAIL\")\n",
    "\n",
    "smtp.send_message(msg)\n",
    "\n",
    "time.sleep(1)\n",
    "\n",
    "print('EMAIL SENT!')"
   ]
  },
  {
   "cell_type": "code",
   "execution_count": 17,
   "metadata": {},
   "outputs": [],
   "source": [
    "def email_login():\n",
    "    \n",
    "    # Set up the SMTP server & login\n",
    "    smtp = smtplib.SMTP('smtp.gmail.com', 587)\n",
    "    \n",
    "    # Note: sometimes ttls has to be turned off (?)\n",
    "\n",
    "    smtp.starttls()\n",
    "\n",
    "    smtp.ehlo()\n",
    "    email_address = input (\"What is your email address?\") \n",
    "    password = input(\"What is the password of your email?\")\n",
    "    \n",
    "    success = smtp.login(str(email_address),str(password) )\n",
    "    if success[0] == 235:\n",
    "        return True\n",
    "    else:\n",
    "        return False\n",
    "    #trysendemail01@gmail.com\n",
    "    #123123123Aa."
   ]
  },
  {
   "cell_type": "code",
   "execution_count": 4,
   "metadata": {},
   "outputs": [],
   "source": [
    "# key encryption from the class\n",
    "def key_encryption(key,message):\n",
    "    encoded = ''\n",
    "    for char in message:\n",
    "        encoded = encoded +  chr(ord(char) + key)\n",
    "    return encoded\n",
    "# decrption function for the key encryption \n",
    "def key_decryption(key,message):\n",
    "    decoded = ''\n",
    "    for char in message:\n",
    "        decoded = decoded +  chr(ord(char) - key)\n",
    "    return decoded"
   ]
  },
  {
   "cell_type": "code",
   "execution_count": 2,
   "metadata": {},
   "outputs": [
    {
     "ename": "SyntaxError",
     "evalue": "invalid character in identifier (<ipython-input-2-9c0d6b49e7d5>, line 26)",
     "output_type": "error",
     "traceback": [
      "\u001b[1;36m  File \u001b[1;32m\"<ipython-input-2-9c0d6b49e7d5>\"\u001b[1;36m, line \u001b[1;32m26\u001b[0m\n\u001b[1;33m    keylength = le​def encryptcaesar(key,message):\u001b[0m\n\u001b[1;37m                     ^\u001b[0m\n\u001b[1;31mSyntaxError\u001b[0m\u001b[1;31m:\u001b[0m invalid character in identifier\n"
     ]
    }
   ],
   "source": [
    "def encryptcaesar(key,message):\n",
    "    message = str(message).upper()\n",
    "    key=str(key)\n",
    "    encoded = ''.join([chr(97 + (ord(i) + ord(key.upper()))% 26) for i in message])\n",
    "    return encoded\n",
    "def decryptcaesar(key,message):\n",
    "    message = str(message).upper()\n",
    "    key = str(key)\n",
    "    decoded = ''.join([chr(97 + (ord(i) - ord(key.upper()))% 26)  for i in message])\n",
    "    return decoded\n",
    "\n",
    "def vigenere_encryption(key,message):\n",
    "    #getting rid of the spaces\n",
    "    message.replace(\" \",\"\")\n",
    "    encoded = ''\n",
    "    keylength = len(key)\n",
    "    for i in range(len(message)):\n",
    "        encoded += encryptcaesar(key[i% keylength],message[i])\n",
    "    return encoded.upper()\n",
    "\n",
    "def vigenere_decryption(key,message):\n",
    "    #getting rid of the spaces\n",
    "    message.replace(\" \",\"\")\n",
    "    decoded = ''\n",
    "    keylength = len(key)\n",
    "    for i in range(len(message)):\n",
    "        decoded += decryptcaesar(key[i% keylength],message[i])\n",
    "    return decoded.upper()\n"
   ]
  },
  {
   "cell_type": "code",
   "execution_count": 12,
   "metadata": {},
   "outputs": [
    {
     "name": "stdout",
     "output_type": "stream",
     "text": [
      "ZIRGIIDWOLXPEJRDHTMFXKFWWHSZIKMXWTLRXJRSUKW\n",
      "WINTERFELLTCASTLETISTTHETHOMETOFTTHETSTARKS\n"
     ]
    }
   ],
   "source": [
    "\n",
    "print(vigenere_encryption('DAENERYS','WINTERFELL CASTLE IS THE HOME OF THE STARKS'))\n",
    "print(vigenere_decryption('DAENERYS','ZIRGIIDWOLXPEJRDHTMFXKFWWHSZIKMXWTLRXJRSUKW'))\n"
   ]
  },
  {
   "cell_type": "code",
   "execution_count": 11,
   "metadata": {
    "scrolled": true
   },
   "outputs": [
    {
     "name": "stdout",
     "output_type": "stream",
     "text": [
      "~rs}*s}*k*~o}~on*sxpy|wk~syx\n",
      "this is a tested information\n"
     ]
    }
   ],
   "source": [
    "#email_login()==True\n",
    "test = \"this is a tested information\"\n",
    "a= key_encryption(10,test)\n"
   ]
  },
  {
   "cell_type": "code",
   "execution_count": null,
   "metadata": {},
   "outputs": [],
   "source": [
    "def SendEncryptedEmail ():\n",
    "    #email_login()\n",
    "    if email_login == True:\n",
    "        type_of_encryption()\n",
    "    else:\n",
    "        print(\"email \")\n",
    "        \n",
    "    return True"
   ]
  }
 ],
 "metadata": {
  "kernelspec": {
   "display_name": "Python 3",
   "language": "python",
   "name": "python3"
  },
  "language_info": {
   "codemirror_mode": {
    "name": "ipython",
    "version": 3
   },
   "file_extension": ".py",
   "mimetype": "text/x-python",
   "name": "python",
   "nbconvert_exporter": "python",
   "pygments_lexer": "ipython3",
   "version": "3.7.0"
  }
 },
 "nbformat": 4,
 "nbformat_minor": 2
}
