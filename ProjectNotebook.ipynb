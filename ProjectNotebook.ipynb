{
 "cells": [
  {
   "cell_type": "markdown",
   "metadata": {},
   "source": [
    "# Project Topic:  Encryption\n",
    "### This project has been added to the GitHub\n",
    "#### Account: kiss41194377\n",
    "#### Link:https://github.com/kiss41194377/Cogs-18-Final-Project"
   ]
  },
  {
   "cell_type": "markdown",
   "metadata": {},
   "source": [
    "# Overview\n",
    "\n",
    "This project integrats email into the encryption code, so you can send receive encrypted messages!\n",
    "You are able to choose one out of three types of encryptions."
   ]
  },
  {
   "cell_type": "markdown",
   "metadata": {},
   "source": [
    "# Three types of encryptions will be using in this project\n",
    "- key_encryption\n",
    "- Caesar Encryption\n",
    "- Vigenere_Encryption"
   ]
  },
  {
   "cell_type": "code",
   "execution_count": 1,
   "metadata": {},
   "outputs": [],
   "source": [
    "# import my modules\n",
    "\n",
    "from my_encryptions_module import encryptions \n",
    "from my_email_module import email_functions"
   ]
  },
  {
   "cell_type": "markdown",
   "metadata": {},
   "source": [
    "# Key Cipher\n",
    "This is basically the encryption we done in Assignment 2 which is \n",
    "- Get the unicode code point for the character using ord \n",
    "- Add the value of key to that code point \n",
    "- Convert the new int back to a character using chr."
   ]
  },
  {
   "cell_type": "markdown",
   "metadata": {},
   "source": [
    "### Let's play with examples!"
   ]
  },
  {
   "cell_type": "code",
   "execution_count": 2,
   "metadata": {
    "scrolled": true
   },
   "outputs": [
    {
     "name": "stdout",
     "output_type": "stream",
     "text": [
      "Original Message:\t Hello world.\n",
      "Encrypted Message:\t \\y4xB\n",
      "Decoded Message:\t Hello world.\n"
     ]
    }
   ],
   "source": [
    "#Create a message\n",
    "original_message = \"Hello world.\"\n",
    "print('Original Message:\\t', original_message)\n",
    "\n",
    "#Create a key to encode the message\n",
    "key = 20\n",
    "#Now endcode the message using key_encryption\n",
    "encoded = encryptions.key_encryption(key,original_message)\n",
    "\n",
    "print('Encrypted Message:\\t',encoded)\n",
    "\n",
    "#Now let's decode the encoded message back to original message\n",
    "decoded = encryptions.key_decryption(key,encoded)\n",
    "print('Decoded Message:\\t',decoded)\n"
   ]
  },
  {
   "cell_type": "markdown",
   "metadata": {},
   "source": [
    "# caesar Cipher \n",
    "This is one of the simplest and most widely known encryption techniques.\n",
    "It is smilar to key_encryption but it's restricted to alphabet only.\n",
    "\n",
    "Cite: I learned this in Math 187A, a math class about encryptions.\n",
    "Procedure: \n",
    "- Make the message to upper case\n",
    "- convert it to unicode using ord and mode it by 26 to \n",
    "    keep it stays at alpabet unicode\n",
    "- convert it back to alphabet\n",
    "- join them together and return "
   ]
  },
  {
   "cell_type": "markdown",
   "metadata": {},
   "source": [
    "### Let's play with examples!"
   ]
  },
  {
   "cell_type": "code",
   "execution_count": 3,
   "metadata": {},
   "outputs": [
    {
     "name": "stdout",
     "output_type": "stream",
     "text": [
      "Original Message:\t Hello COGS18\n",
      "Encrypted Message:\t wtaadirdvhzg\n",
      "Decoded Message:\t hellotcogskr\n"
     ]
    }
   ],
   "source": [
    "#Create a message\n",
    "original_message = \"Hello COGS18\"\n",
    "print('Original Message:\\t', original_message)\n",
    "\n",
    "#Create a key to encode the message\n",
    "key = 6\n",
    "\n",
    "#Now endcode the message using caesar_encryption\n",
    "encoded = encryptions.encryptcaesar(key,original_message)\n",
    "\n",
    "print('Encrypted Message:\\t',encoded)\n",
    "\n",
    "#Now let's decode the encoded message back to original message\n",
    "decoded = encryptions.decryptcaesar(key,encoded)\n",
    "print('Decoded Message:\\t',decoded)\n"
   ]
  },
  {
   "cell_type": "markdown",
   "metadata": {},
   "source": [
    "### Advantage\n",
    "This is easy to use and unsertand. You can master it in few hours."
   ]
  },
  {
   "cell_type": "markdown",
   "metadata": {},
   "source": [
    "### Disavantage\n",
    "   The decoded message will be lowercase and can't be the same format as the original message user needs to figure out the order by themselves, more over it is easy to decode"
   ]
  },
  {
   "cell_type": "markdown",
   "metadata": {},
   "source": [
    "# Vigenere Cipher\n",
    "This is implemented by using a series of Caesar ciphers.\n",
    "\n",
    "Cite: Also from my Math 187A class\n",
    "- replace any spaces from the message\n",
    "- shift the letter of alphabet along some number of places.\n",
    "- concatenate the conded message "
   ]
  },
  {
   "cell_type": "markdown",
   "metadata": {},
   "source": [
    "### Let's play with examples!"
   ]
  },
  {
   "cell_type": "code",
   "execution_count": 4,
   "metadata": {},
   "outputs": [
    {
     "name": "stdout",
     "output_type": "stream",
     "text": [
      "There is two hundred bucks in my pocket.Dont tell anyone\n",
      "Original Message:\t There is two hundred bucks in my pocket.Dont tell anyone\n",
      "Encrypted Message:\t FVRVCUGGAMTIAHPQROYAWGVRKKDBGIQHUHMZHGIJXOACMZS\n",
      "Decoded Message:\t THEREISTWOHUNDREDBUCKSINMYPOCKETHDONTTELLANYONE\n"
     ]
    }
   ],
   "source": [
    "#Create a message\n",
    "original_message = \"There is two hundred bucks in my pocket.Dont tell anyone\"\n",
    "original_message.replace(\"\",\"\")\n",
    "print(original_message)\n",
    "print('Original Message:\\t', original_message)\n",
    "\n",
    "#Create a key to encode the message\n",
    "key = \"MONEY\"\n",
    "\n",
    "#Now endcode the message using vigenere_encryption\n",
    "encoded = encryptions.vigenere_encryption(key,original_message)\n",
    "\n",
    "print('Encrypted Message:\\t',encoded)\n",
    "\n",
    "#Now let's decode the encoded message back to original message\n",
    "decoded = encryptions.vigenere_decryption(key,encoded)\n",
    "print('Decoded Message:\\t',decoded)\n"
   ]
  },
  {
   "cell_type": "markdown",
   "metadata": {},
   "source": [
    "### Advantage\n",
    "This cipher is just like a advanced Caesar Ciper. It is also easy to understand and implement."
   ]
  },
  {
   "cell_type": "markdown",
   "metadata": {},
   "source": [
    "### Disavantage\n",
    "  Just like the caesar Cipher The decoded message will be in upper case and can't be the same format as the original message user needs to figure out the order by themselves, more over it is easy to decode"
   ]
  },
  {
   "cell_type": "markdown",
   "metadata": {},
   "source": [
    "## Integrating with emails\n",
    "Now we are done with the encryption stuff, let intergrate with sending email and receiving email."
   ]
  },
  {
   "cell_type": "code",
   "execution_count": 5,
   "metadata": {},
   "outputs": [],
   "source": [
    "\n",
    "def cipher_send_email():\n",
    "    ''' This function is used to send encrypted email to an address.\n",
    "        Pick one of the encryption option from the 3, input a key for \n",
    "        the encryption the user chooses\n",
    "        \n",
    "        Parameters:\n",
    "        ----------\n",
    "        None\n",
    "    \n",
    "    \n",
    "    '''\n",
    "    #Constant.string for telling the user to input a number\n",
    "    fail=\"Failed becasue key is a incorrect type, now return to picking encryption\"\n",
    "   \n",
    "    #Constant,string for asking the user to input a key\n",
    "    ask_for_key=\"What key do you want to use for your encryption\"\n",
    "    \n",
    "    #Email information\n",
    "    user = input(\"What is your email\")\n",
    "    password = input(\"What is your password\")\n",
    "    to_address = input(\"What is the email you sending to\")\n",
    "    content = input(\"What message you are sending\")\n",
    "    print(\"Which encryption do you want to use\\n\")   \n",
    "        \n",
    "    # a while loop to make sure user input a number for the option\n",
    "    is_one_to_three = False\n",
    "    while is_one_to_three == False:\n",
    "        \n",
    "        encrypt_type = input(\" 1:Key_encryption\\n 2:Caesar_encryption\\n 3:Vigenere_encryption\\n pick a number 1-3\" )\n",
    "        print(encrypt_type)\n",
    "        \n",
    "        #Case for key_encrpytion\n",
    "        if encrypt_type == '1':\n",
    "            print(ask_for_key, \"please enter a number\")\n",
    "            key = input()\n",
    "            if key.isdigit():\n",
    "                email_functions.email_send(user,password,encryptions.key_encryption(int(key),content),user,to_address)\n",
    "                is_one_to_three = True\n",
    "            else:\n",
    "                print(fail)\n",
    "        \n",
    "        #Case for caesar_encryption\n",
    "        elif encrypt_type == '2':\n",
    "            print(ask_for_key, \"please enter a Character 'A-Z'\")\n",
    "            key= input()\n",
    "            if key.isalpha():\n",
    "                email_functions.email_send(user,password,encryptions.encryptcaesar(key,content),user,to_address)\n",
    "                is_one_to_three = True\n",
    "            else:\n",
    "                print(fail)\n",
    "        \n",
    "        #Case for vigenere_ecryption\n",
    "        elif encrypt_type == '3':\n",
    "            print(ask_for_key,\" please enter a word\")\n",
    "            key= input()\n",
    "            if key.isalpha():\n",
    "                email_functions.email_send(user,password,encryptions.vigenere_encryption(key,content),user,to_address)\n",
    "                is_one_to_three = True\n",
    "            else:\n",
    "                print(fail)\n",
    "        #Case for the user doesn't input a number\n",
    "        else:\n",
    "            print(\"please enter number 1-3\")\n",
    "\n",
    "        #emial_functions.\n",
    "    "
   ]
  },
  {
   "cell_type": "markdown",
   "metadata": {},
   "source": [
    "### You can use this email to test the email feature\n",
    "user : trysendemail01@gmail.com\n",
    "\n",
    "password :123123123Aa.\n",
    "    "
   ]
  },
  {
   "cell_type": "markdown",
   "metadata": {},
   "source": [
    "### Let's play with the sending encrypted email"
   ]
  },
  {
   "cell_type": "code",
   "execution_count": 6,
   "metadata": {},
   "outputs": [
    {
     "name": "stdout",
     "output_type": "stream",
     "text": [
      "What is your emailtrysendemail01@gmail.com\n",
      "What is your password123123123Aa.\n",
      "What is the email you sending totrysendemail01@gmail.com\n",
      "What message you are sendingHAHAHA\n",
      "Which encryption do you want to use\n",
      "\n",
      " 1:Key_encryption\n",
      " 2:Caesar_encryption\n",
      " 3:Vigenere_encryption\n",
      " pick a number 1-31\n",
      "1\n",
      "What key do you want to use for your encryption please enter a number\n",
      "20\n",
      "SENDING EMAIL\n",
      "EMAIL SENT!\n"
     ]
    }
   ],
   "source": [
    "\n",
    "cipher_send_email()"
   ]
  },
  {
   "cell_type": "markdown",
   "metadata": {},
   "source": [
    "### <font color=red>Warning!!</font> The cipher_receive_email function is under develpment\n",
    "It sometimes doesn't work due to the way of the encoding the smtp sending emails but most of the time it works!"
   ]
  },
  {
   "cell_type": "code",
   "execution_count": 22,
   "metadata": {},
   "outputs": [],
   "source": [
    "\n",
    "# Important!!!\n",
    "#:This function is under development, sometimes it works and sometimes it doesn't\n",
    "def cipher_receive_email():\n",
    "    \n",
    "    \"\"\" This function is used to receive email and then decode it.\n",
    "        Pick one of the encryption option from the 3, input a key for \n",
    "        the decryption the user chooses\n",
    "        Parameters:\n",
    "        ----------\n",
    "        None\n",
    "    \"\"\"\n",
    "    #Constant.string for telling the user to input a number\n",
    "    fail=\"Failed becasue key is a incorrect type, now return to picking encryption\"\n",
    "   \n",
    "    ask_for_key=\"What key did you use?\"\n",
    "    \n",
    "    #Ask for email information \n",
    "    user = input(\"What is your email\")\n",
    "    password = input(\"What is your password\")\n",
    "    print(\"getting most recent email\")\n",
    "    \n",
    "    #retrive the email \n",
    "    message=email_functions.email_receive(user,password)\n",
    "\n",
    "    is_one_to_three = False\n",
    "    #A while loop to make sure the user is input a option for the encryption\n",
    "    while is_one_to_three == False:\n",
    "        print(\"which encryption did the message encrypt?\")\n",
    "        encrypt_type = input(\" 1:Key_encryption\\n 2:Caesar_encryption\\n 3:Vigenere_encryption\\n pick a number 1-3\" )\n",
    "        print(encrypt_type)\n",
    "        if encrypt_type == '1':\n",
    "            print(ask_for_key, \"please enter a number\")\n",
    "            key = input()\n",
    "            if key.isdigit():\n",
    "                decoded=encryptions.key_decryption(int(key),message[0])\n",
    "                is_one_to_three = True\n",
    "            else:\n",
    "                print(fail)\n",
    "        elif encrypt_type == '2':\n",
    "            print(ask_for_key, \"please enter a Character\")\n",
    "            key= input()\n",
    "            if key.isalpha():\n",
    "                decoded=encryptions.decryptcaesar(key,message[0])\n",
    "                is_one_to_three = True\n",
    "            else:\n",
    "                print(fail)\n",
    "        \n",
    "        elif encrypt_type == '3':\n",
    "            print(ask_for_key,\" please enter a word\")\n",
    "            key= input()\n",
    "            if key.isalpha():\n",
    "                decoded=encryptions.vigenere_decryption(key,message[0])\n",
    "                is_one_to_three = True\n",
    "            else:\n",
    "                print(fail)\n",
    "        else:\n",
    "            print(\"please enter number 1-3\")\n",
    "    print(\"The encoded message is\",message[0])\n",
    "    print(\"The decoded message is \",decoded)"
   ]
  },
  {
   "cell_type": "markdown",
   "metadata": {},
   "source": [
    "### You can use this email to test the email feature\n",
    "user : trysendemail01@gmail.com\n",
    "\n",
    "password :123123123Aa.\n",
    "### Let's play with the receiving encrypted email"
   ]
  },
  {
   "cell_type": "code",
   "execution_count": 23,
   "metadata": {},
   "outputs": [
    {
     "name": "stdout",
     "output_type": "stream",
     "text": [
      "What is your emailtrysendemail01@gmail.com\n",
      "What is your password123123123Aa.\n",
      "getting most recent email\n",
      "which encryption did the message encrypt?\n",
      " 1:Key_encryption\n",
      " 2:Caesar_encryption\n",
      " 3:Vigenere_encryption\n",
      " pick a number 1-31\n",
      "1\n",
      "What key did you use? please enter a number\n",
      "20\n",
      "The encoded message is \\U\\U\\U\n",
      "The decoded message is  HAHAHA\n"
     ]
    }
   ],
   "source": [
    " cipher_receive_email()"
   ]
  },
  {
   "cell_type": "markdown",
   "metadata": {},
   "source": [
    "# Thank you for trying out my project! \n",
    "\n",
    "Have a nice Christmas"
   ]
  }
 ],
 "metadata": {
  "kernelspec": {
   "display_name": "Python 3",
   "language": "python",
   "name": "python3"
  },
  "language_info": {
   "codemirror_mode": {
    "name": "ipython",
    "version": 3
   },
   "file_extension": ".py",
   "mimetype": "text/x-python",
   "name": "python",
   "nbconvert_exporter": "python",
   "pygments_lexer": "ipython3",
   "version": "3.7.0"
  }
 },
 "nbformat": 4,
 "nbformat_minor": 2
}
